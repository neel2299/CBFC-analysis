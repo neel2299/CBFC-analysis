{
 "cells": [
  {
   "cell_type": "code",
   "execution_count": 9,
   "metadata": {
    "id": "nLvCmR9liUSL"
   },
   "outputs": [],
   "source": [
    "import requests\n",
    "from bs4 import BeautifulSoup\n",
    "import time\n",
    "from defs import get_movie"
   ]
  },
  {
   "cell_type": "code",
   "execution_count": 2,
   "metadata": {
    "id": "2LP7fSHViUSP"
   },
   "outputs": [],
   "source": [
    "with open('movies.csv') as movies:\n",
    "    movies.readline()  #ignore the header\n",
    "    movies_list = [movie.strip().split(',') for movie in movies.readlines()]\n",
    "    \n",
    "data = list(enumerate(movies_list))"
   ]
  },
  {
   "cell_type": "code",
   "execution_count": null,
   "metadata": {},
   "outputs": [],
   "source": []
  },
  {
   "cell_type": "code",
   "execution_count": 3,
   "metadata": {
    "colab": {
     "base_uri": "https://localhost:8080/"
    },
    "id": "ZRdXdIzNiUSQ",
    "outputId": "7a8ac641-d560-4d22-eacf-28c7c7aeb0f1"
   },
   "outputs": [
    {
     "name": "stdout",
     "output_type": "stream",
     "text": [
      "Enter the movie index from where you want to scrape:1\n",
      "Enter the movie index to where you want to scrape:100\n"
     ]
    }
   ],
   "source": [
    "movie_idx_from = int(input('Enter the movie index from where you want to scrape:')) - 1\n",
    "movie_idx_to = int(input('Enter the movie index to where you want to scrape:'))"
   ]
  },
  {
   "cell_type": "code",
   "execution_count": null,
   "metadata": {
    "colab": {
     "base_uri": "https://localhost:8080/"
    },
    "id": "hVZyg0qfiUSR",
    "outputId": "27f19cd0-0d66-4e98-85a4-684e8eec9b34",
    "scrolled": true
   },
   "outputs": [],
   "source": [
    "start = time.time()\n",
    "all_movies = []\n",
    "idx = movie_idx_from + 1\n",
    "for movie_id, lang_id in movies_list[movie_idx_from:movie_idx_to]:\n",
    "    print(f\"{idx}. movie_id: {movie_id} lang_id: {lang_id}\")\n",
    "    search_string = f\"https://www.cbfcindia.gov.in/main/search-result?movie_id={movie_id}&lang_id={lang_id}\"\n",
    "    response = requests.get(search_string)\n",
    "    soup = BeautifulSoup(response.content)\n",
    "\n",
    "    movie_details = [each.text for each in soup.find_all('td')[1:]]\n",
    "    keys = ['Movie No.'] + movie_details[::2]\n",
    "    values = [idx] + movie_details[1::2]\n",
    "    movie_dict = dict(zip(keys, values))    \n",
    "    all_movies.append(movie_dict)\n",
    "    idx += 1\n",
    "end = time.time()\n",
    "print(end- start)"
   ]
  },
  {
   "cell_type": "code",
   "execution_count": 12,
   "metadata": {
    "id": "LxrbMSGyiUSR"
   },
   "outputs": [],
   "source": [
    "# def get_movie(row,a,b):  # https://stackoverflow.com/questions/41385708/multiprocessing-example-giving-attributeerror\n",
    "#     idx = row[0]\n",
    "#     movie_id = row[1][0]\n",
    "#     lang_id = row[1][1]\n",
    "#     print(f\"{idx}. movie_id: {movie_id} lang_id: {lang_id}\")\n",
    "#     search_string = f\"https://www.cbfcindia.gov.in/main/search-result?movie_id={movie_id}&lang_id={lang_id}\"\n",
    "#     response = requests.get(search_string)\n",
    "#     soup = BeautifulSoup(response.content)\n",
    "\n",
    "#     movie_details = [each.text for each in soup.find_all('td')[1:]]\n",
    "#     keys = ['Movie No.'] + movie_details[::2]\n",
    "#     values = [idx] + movie_details[1::2]\n",
    "#     movie_dict = dict(zip(keys, values))    \n",
    "#     return movie_dict\n",
    "#     idx += 1\n"
   ]
  },
  {
   "cell_type": "code",
   "execution_count": 10,
   "metadata": {
    "id": "jNkkHSP6iUSS"
   },
   "outputs": [
    {
     "name": "stdout",
     "output_type": "stream",
     "text": [
      "330.60239696502686\n"
     ]
    }
   ],
   "source": [
    "import multiprocessing as mp\n",
    "idx = movie_idx_from + 1\n",
    "pool = mp.Pool(mp.cpu_count())\n",
    "\n",
    "start = time.time()\n",
    "results = [pool.apply(get_movie, args=(row, 4, 8)) for row in data[movie_idx_from:movie_idx_to]]\n",
    "end = time.time()\n",
    "print(end- start)"
   ]
  },
  {
   "cell_type": "code",
   "execution_count": 6,
   "metadata": {
    "colab": {
     "base_uri": "https://localhost:8080/"
    },
    "id": "3aLermiRiUSS",
    "outputId": "5ed8f610-861a-430d-bc31-f37a985b24a0"
   },
   "outputs": [
    {
     "data": {
      "text/plain": [
       "16"
      ]
     },
     "execution_count": 6,
     "metadata": {},
     "output_type": "execute_result"
    }
   ],
   "source": [
    "import multiprocessing as mp\n",
    "mp.cpu_count()"
   ]
  },
  {
   "cell_type": "code",
   "execution_count": null,
   "metadata": {
    "id": "xgHwW7CpiUST"
   },
   "outputs": [],
   "source": [
    "import pandas as pd\n",
    "all_movies_df = pd.DataFrame(all_movies)\n",
    "all_movies_df.head()\n",
    "all_movies_df.to_csv(f'movies_{movie_idx_from + 1}_{movie_idx_to}.csv', index=False)"
   ]
  }
 ],
 "metadata": {
  "colab": {
   "name": "Movie Certifications.ipynb",
   "provenance": []
  },
  "kernelspec": {
   "display_name": "Python 3",
   "language": "python",
   "name": "python3"
  },
  "language_info": {
   "codemirror_mode": {
    "name": "ipython",
    "version": 3
   },
   "file_extension": ".py",
   "mimetype": "text/x-python",
   "name": "python",
   "nbconvert_exporter": "python",
   "pygments_lexer": "ipython3",
   "version": "3.8.8"
  }
 },
 "nbformat": 4,
 "nbformat_minor": 1
}
